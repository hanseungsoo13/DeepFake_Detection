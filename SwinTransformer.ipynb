{
 "cells": [
  {
   "cell_type": "markdown",
   "id": "7b715a1a-b394-4ea7-84e7-c3197089b637",
   "metadata": {},
   "source": [
    "# Part3. DeepFake Detection Model"
   ]
  },
  {
   "cell_type": "markdown",
   "id": "e6eec885-8a24-439b-bde7-7aab8db9de7f",
   "metadata": {},
   "source": [
    "**Detection모델의 실험 과정의 대표 코드입니다. 본 코드에서는 데이터셋은 Celeb-DF, 모델은 ResNet50, 채널은 Gray Channel을 이용하였습니다.**"
   ]
  },
  {
   "cell_type": "markdown",
   "id": "b3c7147b-56c7-4f34-b36c-cfd0e0084802",
   "metadata": {
    "id": "2iABS1GC2GqP",
    "tags": []
   },
   "source": [
    "### Library Import"
   ]
  },
  {
   "cell_type": "code",
   "execution_count": 1,
   "id": "bcf5d4ff-0921-43ac-9c57-2f168585e452",
   "metadata": {
    "colab": {
     "base_uri": "https://localhost:8080/"
    },
    "collapsed": true,
    "id": "mOjLFKw3_USk",
    "jupyter": {
     "outputs_hidden": true
    },
    "outputId": "d416871f-0108-4a12-fc3c-0ec76bc25ba5",
    "scrolled": true
   },
   "outputs": [
    {
     "name": "stdout",
     "output_type": "stream",
     "text": [
      "Collecting pytorch-lightning\n",
      "  Downloading pytorch_lightning-2.2.5-py3-none-any.whl.metadata (21 kB)\n",
      "Requirement already satisfied: numpy>=1.17.2 in c:\\users\\c\\anaconda3\\lib\\site-packages (from pytorch-lightning) (1.26.4)\n",
      "Requirement already satisfied: torch>=1.13.0 in c:\\users\\c\\anaconda3\\lib\\site-packages (from pytorch-lightning) (2.3.0+cu121)\n",
      "Requirement already satisfied: tqdm>=4.57.0 in c:\\users\\c\\anaconda3\\lib\\site-packages (from pytorch-lightning) (4.65.0)\n",
      "Requirement already satisfied: PyYAML>=5.4 in c:\\users\\c\\anaconda3\\lib\\site-packages (from pytorch-lightning) (6.0.1)\n",
      "Requirement already satisfied: fsspec>=2022.5.0 in c:\\users\\c\\anaconda3\\lib\\site-packages (from fsspec[http]>=2022.5.0->pytorch-lightning) (2023.10.0)\n",
      "Collecting torchmetrics>=0.7.0 (from pytorch-lightning)\n",
      "  Downloading torchmetrics-1.4.0.post0-py3-none-any.whl.metadata (19 kB)\n",
      "Requirement already satisfied: packaging>=20.0 in c:\\users\\c\\anaconda3\\lib\\site-packages (from pytorch-lightning) (23.1)\n",
      "Requirement already satisfied: typing-extensions>=4.4.0 in c:\\users\\c\\anaconda3\\lib\\site-packages (from pytorch-lightning) (4.9.0)\n",
      "Collecting lightning-utilities>=0.8.0 (from pytorch-lightning)\n",
      "  Downloading lightning_utilities-0.11.2-py3-none-any.whl.metadata (4.7 kB)\n",
      "Requirement already satisfied: requests in c:\\users\\c\\anaconda3\\lib\\site-packages (from fsspec[http]>=2022.5.0->pytorch-lightning) (2.31.0)\n",
      "Requirement already satisfied: aiohttp!=4.0.0a0,!=4.0.0a1 in c:\\users\\c\\anaconda3\\lib\\site-packages (from fsspec[http]>=2022.5.0->pytorch-lightning) (3.9.3)\n",
      "Requirement already satisfied: setuptools in c:\\users\\c\\anaconda3\\lib\\site-packages (from lightning-utilities>=0.8.0->pytorch-lightning) (68.2.2)\n",
      "Requirement already satisfied: filelock in c:\\users\\c\\anaconda3\\lib\\site-packages (from torch>=1.13.0->pytorch-lightning) (3.13.1)\n",
      "Requirement already satisfied: sympy in c:\\users\\c\\anaconda3\\lib\\site-packages (from torch>=1.13.0->pytorch-lightning) (1.12)\n",
      "Requirement already satisfied: networkx in c:\\users\\c\\anaconda3\\lib\\site-packages (from torch>=1.13.0->pytorch-lightning) (3.1)\n",
      "Requirement already satisfied: jinja2 in c:\\users\\c\\anaconda3\\lib\\site-packages (from torch>=1.13.0->pytorch-lightning) (3.1.3)\n",
      "Requirement already satisfied: mkl<=2021.4.0,>=2021.1.1 in c:\\users\\c\\anaconda3\\lib\\site-packages (from torch>=1.13.0->pytorch-lightning) (2021.4.0)\n",
      "Requirement already satisfied: colorama in c:\\users\\c\\anaconda3\\lib\\site-packages (from tqdm>=4.57.0->pytorch-lightning) (0.4.6)\n",
      "Requirement already satisfied: aiosignal>=1.1.2 in c:\\users\\c\\anaconda3\\lib\\site-packages (from aiohttp!=4.0.0a0,!=4.0.0a1->fsspec[http]>=2022.5.0->pytorch-lightning) (1.2.0)\n",
      "Requirement already satisfied: attrs>=17.3.0 in c:\\users\\c\\anaconda3\\lib\\site-packages (from aiohttp!=4.0.0a0,!=4.0.0a1->fsspec[http]>=2022.5.0->pytorch-lightning) (23.1.0)\n",
      "Requirement already satisfied: frozenlist>=1.1.1 in c:\\users\\c\\anaconda3\\lib\\site-packages (from aiohttp!=4.0.0a0,!=4.0.0a1->fsspec[http]>=2022.5.0->pytorch-lightning) (1.4.0)\n",
      "Requirement already satisfied: multidict<7.0,>=4.5 in c:\\users\\c\\anaconda3\\lib\\site-packages (from aiohttp!=4.0.0a0,!=4.0.0a1->fsspec[http]>=2022.5.0->pytorch-lightning) (6.0.4)\n",
      "Requirement already satisfied: yarl<2.0,>=1.0 in c:\\users\\c\\anaconda3\\lib\\site-packages (from aiohttp!=4.0.0a0,!=4.0.0a1->fsspec[http]>=2022.5.0->pytorch-lightning) (1.9.3)\n",
      "Requirement already satisfied: intel-openmp==2021.* in c:\\users\\c\\anaconda3\\lib\\site-packages (from mkl<=2021.4.0,>=2021.1.1->torch>=1.13.0->pytorch-lightning) (2021.4.0)\n",
      "Requirement already satisfied: tbb==2021.* in c:\\users\\c\\anaconda3\\lib\\site-packages (from mkl<=2021.4.0,>=2021.1.1->torch>=1.13.0->pytorch-lightning) (2021.12.0)\n",
      "Requirement already satisfied: MarkupSafe>=2.0 in c:\\users\\c\\anaconda3\\lib\\site-packages (from jinja2->torch>=1.13.0->pytorch-lightning) (2.1.3)\n",
      "Requirement already satisfied: charset-normalizer<4,>=2 in c:\\users\\c\\anaconda3\\lib\\site-packages (from requests->fsspec[http]>=2022.5.0->pytorch-lightning) (2.0.4)\n",
      "Requirement already satisfied: idna<4,>=2.5 in c:\\users\\c\\anaconda3\\lib\\site-packages (from requests->fsspec[http]>=2022.5.0->pytorch-lightning) (3.4)\n",
      "Requirement already satisfied: urllib3<3,>=1.21.1 in c:\\users\\c\\anaconda3\\lib\\site-packages (from requests->fsspec[http]>=2022.5.0->pytorch-lightning) (2.0.7)\n",
      "Requirement already satisfied: certifi>=2017.4.17 in c:\\users\\c\\anaconda3\\lib\\site-packages (from requests->fsspec[http]>=2022.5.0->pytorch-lightning) (2024.2.2)\n",
      "Requirement already satisfied: mpmath>=0.19 in c:\\users\\c\\anaconda3\\lib\\site-packages (from sympy->torch>=1.13.0->pytorch-lightning) (1.3.0)\n",
      "Downloading pytorch_lightning-2.2.5-py3-none-any.whl (802 kB)\n",
      "   ---------------------------------------- 0.0/802.3 kB ? eta -:--:--\n",
      "   ------------ --------------------------- 245.8/802.3 kB 7.4 MB/s eta 0:00:01\n",
      "   ---------------------------- ----------- 573.4/802.3 kB 7.2 MB/s eta 0:00:01\n",
      "   ---------------------------------------- 802.3/802.3 kB 7.2 MB/s eta 0:00:00\n",
      "Downloading lightning_utilities-0.11.2-py3-none-any.whl (26 kB)\n",
      "Downloading torchmetrics-1.4.0.post0-py3-none-any.whl (868 kB)\n",
      "   ---------------------------------------- 0.0/868.8 kB ? eta -:--:--\n",
      "   ------------ -------------------------- 276.5/868.8 kB 16.6 MB/s eta 0:00:01\n",
      "   --------------------------------------  860.2/868.8 kB 10.9 MB/s eta 0:00:01\n",
      "   ---------------------------------------- 868.8/868.8 kB 9.1 MB/s eta 0:00:00\n",
      "Installing collected packages: lightning-utilities, torchmetrics, pytorch-lightning\n",
      "Successfully installed lightning-utilities-0.11.2 pytorch-lightning-2.2.5 torchmetrics-1.4.0.post0\n",
      "Collecting lightning-bolts\n",
      "  Downloading lightning_bolts-0.7.0-py3-none-any.whl.metadata (9.5 kB)\n",
      "Requirement already satisfied: numpy in c:\\users\\c\\anaconda3\\lib\\site-packages (from lightning-bolts) (1.26.4)\n",
      "Collecting pytorch-lightning<2.0.0,>1.7.0 (from lightning-bolts)\n",
      "  Downloading pytorch_lightning-1.9.5-py3-none-any.whl.metadata (23 kB)\n",
      "Requirement already satisfied: torchmetrics in c:\\users\\c\\anaconda3\\lib\\site-packages (from lightning-bolts) (1.4.0.post0)\n",
      "Requirement already satisfied: lightning-utilities>0.3.1 in c:\\users\\c\\anaconda3\\lib\\site-packages (from lightning-bolts) (0.11.2)\n",
      "Requirement already satisfied: torchvision>=0.10.0 in c:\\users\\c\\anaconda3\\lib\\site-packages (from lightning-bolts) (0.18.0+cu121)\n",
      "Collecting tensorboard>=2.9.1 (from lightning-bolts)\n",
      "  Downloading tensorboard-2.16.2-py3-none-any.whl.metadata (1.6 kB)\n",
      "Requirement already satisfied: packaging>=17.1 in c:\\users\\c\\anaconda3\\lib\\site-packages (from lightning-utilities>0.3.1->lightning-bolts) (23.1)\n",
      "Requirement already satisfied: setuptools in c:\\users\\c\\anaconda3\\lib\\site-packages (from lightning-utilities>0.3.1->lightning-bolts) (68.2.2)\n",
      "Requirement already satisfied: typing-extensions in c:\\users\\c\\anaconda3\\lib\\site-packages (from lightning-utilities>0.3.1->lightning-bolts) (4.9.0)\n",
      "Requirement already satisfied: torch>=1.10.0 in c:\\users\\c\\anaconda3\\lib\\site-packages (from pytorch-lightning<2.0.0,>1.7.0->lightning-bolts) (2.3.0+cu121)\n",
      "Requirement already satisfied: tqdm>=4.57.0 in c:\\users\\c\\anaconda3\\lib\\site-packages (from pytorch-lightning<2.0.0,>1.7.0->lightning-bolts) (4.65.0)\n",
      "Requirement already satisfied: PyYAML>=5.4 in c:\\users\\c\\anaconda3\\lib\\site-packages (from pytorch-lightning<2.0.0,>1.7.0->lightning-bolts) (6.0.1)\n",
      "Requirement already satisfied: fsspec>2021.06.0 in c:\\users\\c\\anaconda3\\lib\\site-packages (from fsspec[http]>2021.06.0->pytorch-lightning<2.0.0,>1.7.0->lightning-bolts) (2023.10.0)\n",
      "Collecting absl-py>=0.4 (from tensorboard>=2.9.1->lightning-bolts)\n",
      "  Using cached absl_py-2.1.0-py3-none-any.whl.metadata (2.3 kB)\n",
      "Collecting grpcio>=1.48.2 (from tensorboard>=2.9.1->lightning-bolts)\n",
      "  Downloading grpcio-1.64.0-cp311-cp311-win_amd64.whl.metadata (3.4 kB)\n",
      "Requirement already satisfied: markdown>=2.6.8 in c:\\users\\c\\anaconda3\\lib\\site-packages (from tensorboard>=2.9.1->lightning-bolts) (3.4.1)\n",
      "Requirement already satisfied: protobuf!=4.24.0,>=3.19.6 in c:\\users\\c\\anaconda3\\lib\\site-packages (from tensorboard>=2.9.1->lightning-bolts) (3.20.3)\n",
      "Requirement already satisfied: six>1.9 in c:\\users\\c\\anaconda3\\lib\\site-packages (from tensorboard>=2.9.1->lightning-bolts) (1.16.0)\n",
      "Collecting tensorboard-data-server<0.8.0,>=0.7.0 (from tensorboard>=2.9.1->lightning-bolts)\n",
      "  Using cached tensorboard_data_server-0.7.2-py3-none-any.whl.metadata (1.1 kB)\n",
      "Requirement already satisfied: werkzeug>=1.0.1 in c:\\users\\c\\anaconda3\\lib\\site-packages (from tensorboard>=2.9.1->lightning-bolts) (2.2.3)\n",
      "Requirement already satisfied: pillow!=8.3.*,>=5.3.0 in c:\\users\\c\\anaconda3\\lib\\site-packages (from torchvision>=0.10.0->lightning-bolts) (10.2.0)\n",
      "Requirement already satisfied: filelock in c:\\users\\c\\anaconda3\\lib\\site-packages (from torch>=1.10.0->pytorch-lightning<2.0.0,>1.7.0->lightning-bolts) (3.13.1)\n",
      "Requirement already satisfied: sympy in c:\\users\\c\\anaconda3\\lib\\site-packages (from torch>=1.10.0->pytorch-lightning<2.0.0,>1.7.0->lightning-bolts) (1.12)\n",
      "Requirement already satisfied: networkx in c:\\users\\c\\anaconda3\\lib\\site-packages (from torch>=1.10.0->pytorch-lightning<2.0.0,>1.7.0->lightning-bolts) (3.1)\n",
      "Requirement already satisfied: jinja2 in c:\\users\\c\\anaconda3\\lib\\site-packages (from torch>=1.10.0->pytorch-lightning<2.0.0,>1.7.0->lightning-bolts) (3.1.3)\n",
      "Requirement already satisfied: mkl<=2021.4.0,>=2021.1.1 in c:\\users\\c\\anaconda3\\lib\\site-packages (from torch>=1.10.0->pytorch-lightning<2.0.0,>1.7.0->lightning-bolts) (2021.4.0)\n",
      "Requirement already satisfied: requests in c:\\users\\c\\anaconda3\\lib\\site-packages (from fsspec[http]>2021.06.0->pytorch-lightning<2.0.0,>1.7.0->lightning-bolts) (2.31.0)\n",
      "Requirement already satisfied: aiohttp!=4.0.0a0,!=4.0.0a1 in c:\\users\\c\\anaconda3\\lib\\site-packages (from fsspec[http]>2021.06.0->pytorch-lightning<2.0.0,>1.7.0->lightning-bolts) (3.9.3)\n",
      "Requirement already satisfied: colorama in c:\\users\\c\\anaconda3\\lib\\site-packages (from tqdm>=4.57.0->pytorch-lightning<2.0.0,>1.7.0->lightning-bolts) (0.4.6)\n",
      "Requirement already satisfied: MarkupSafe>=2.1.1 in c:\\users\\c\\anaconda3\\lib\\site-packages (from werkzeug>=1.0.1->tensorboard>=2.9.1->lightning-bolts) (2.1.3)\n",
      "Requirement already satisfied: aiosignal>=1.1.2 in c:\\users\\c\\anaconda3\\lib\\site-packages (from aiohttp!=4.0.0a0,!=4.0.0a1->fsspec[http]>2021.06.0->pytorch-lightning<2.0.0,>1.7.0->lightning-bolts) (1.2.0)\n",
      "Requirement already satisfied: attrs>=17.3.0 in c:\\users\\c\\anaconda3\\lib\\site-packages (from aiohttp!=4.0.0a0,!=4.0.0a1->fsspec[http]>2021.06.0->pytorch-lightning<2.0.0,>1.7.0->lightning-bolts) (23.1.0)\n",
      "Requirement already satisfied: frozenlist>=1.1.1 in c:\\users\\c\\anaconda3\\lib\\site-packages (from aiohttp!=4.0.0a0,!=4.0.0a1->fsspec[http]>2021.06.0->pytorch-lightning<2.0.0,>1.7.0->lightning-bolts) (1.4.0)\n",
      "Requirement already satisfied: multidict<7.0,>=4.5 in c:\\users\\c\\anaconda3\\lib\\site-packages (from aiohttp!=4.0.0a0,!=4.0.0a1->fsspec[http]>2021.06.0->pytorch-lightning<2.0.0,>1.7.0->lightning-bolts) (6.0.4)\n",
      "Requirement already satisfied: yarl<2.0,>=1.0 in c:\\users\\c\\anaconda3\\lib\\site-packages (from aiohttp!=4.0.0a0,!=4.0.0a1->fsspec[http]>2021.06.0->pytorch-lightning<2.0.0,>1.7.0->lightning-bolts) (1.9.3)\n",
      "Requirement already satisfied: intel-openmp==2021.* in c:\\users\\c\\anaconda3\\lib\\site-packages (from mkl<=2021.4.0,>=2021.1.1->torch>=1.10.0->pytorch-lightning<2.0.0,>1.7.0->lightning-bolts) (2021.4.0)\n",
      "Requirement already satisfied: tbb==2021.* in c:\\users\\c\\anaconda3\\lib\\site-packages (from mkl<=2021.4.0,>=2021.1.1->torch>=1.10.0->pytorch-lightning<2.0.0,>1.7.0->lightning-bolts) (2021.12.0)\n",
      "Requirement already satisfied: charset-normalizer<4,>=2 in c:\\users\\c\\anaconda3\\lib\\site-packages (from requests->fsspec[http]>2021.06.0->pytorch-lightning<2.0.0,>1.7.0->lightning-bolts) (2.0.4)\n",
      "Requirement already satisfied: idna<4,>=2.5 in c:\\users\\c\\anaconda3\\lib\\site-packages (from requests->fsspec[http]>2021.06.0->pytorch-lightning<2.0.0,>1.7.0->lightning-bolts) (3.4)\n",
      "Requirement already satisfied: urllib3<3,>=1.21.1 in c:\\users\\c\\anaconda3\\lib\\site-packages (from requests->fsspec[http]>2021.06.0->pytorch-lightning<2.0.0,>1.7.0->lightning-bolts) (2.0.7)\n",
      "Requirement already satisfied: certifi>=2017.4.17 in c:\\users\\c\\anaconda3\\lib\\site-packages (from requests->fsspec[http]>2021.06.0->pytorch-lightning<2.0.0,>1.7.0->lightning-bolts) (2024.2.2)\n",
      "Requirement already satisfied: mpmath>=0.19 in c:\\users\\c\\anaconda3\\lib\\site-packages (from sympy->torch>=1.10.0->pytorch-lightning<2.0.0,>1.7.0->lightning-bolts) (1.3.0)\n",
      "Downloading lightning_bolts-0.7.0-py3-none-any.whl (300 kB)\n",
      "   ---------------------------------------- 0.0/300.8 kB ? eta -:--:--\n",
      "   ------------------------------- -------- 235.5/300.8 kB 7.3 MB/s eta 0:00:01\n",
      "   ---------------------------------------- 300.8/300.8 kB 6.2 MB/s eta 0:00:00\n",
      "Downloading pytorch_lightning-1.9.5-py3-none-any.whl (829 kB)\n",
      "   ---------------------------------------- 0.0/829.5 kB ? eta -:--:--\n",
      "   ------- -------------------------------- 163.8/829.5 kB 9.6 MB/s eta 0:00:01\n",
      "   --------------------------------------  819.2/829.5 kB 10.4 MB/s eta 0:00:01\n",
      "   --------------------------------------- 829.5/829.5 kB 10.5 MB/s eta 0:00:00\n",
      "Downloading tensorboard-2.16.2-py3-none-any.whl (5.5 MB)\n",
      "   ---------------------------------------- 0.0/5.5 MB ? eta -:--:--\n",
      "   --- ------------------------------------ 0.5/5.5 MB 11.6 MB/s eta 0:00:01\n",
      "   ------- -------------------------------- 1.0/5.5 MB 11.0 MB/s eta 0:00:01\n",
      "   ----------- ---------------------------- 1.6/5.5 MB 11.1 MB/s eta 0:00:01\n",
      "   --------------- ------------------------ 2.1/5.5 MB 11.3 MB/s eta 0:00:01\n",
      "   ------------------ --------------------- 2.5/5.5 MB 10.7 MB/s eta 0:00:01\n",
      "   ----------------------- ---------------- 3.2/5.5 MB 11.3 MB/s eta 0:00:01\n",
      "   --------------------------- ------------ 3.7/5.5 MB 10.8 MB/s eta 0:00:01\n",
      "   ------------------------------ --------- 4.2/5.5 MB 10.7 MB/s eta 0:00:01\n",
      "   ---------------------------------- ----- 4.7/5.5 MB 10.8 MB/s eta 0:00:01\n",
      "   ------------------------------------- -- 5.2/5.5 MB 10.7 MB/s eta 0:00:01\n",
      "   ---------------------------------------- 5.5/5.5 MB 10.6 MB/s eta 0:00:00\n",
      "Using cached absl_py-2.1.0-py3-none-any.whl (133 kB)\n",
      "Downloading grpcio-1.64.0-cp311-cp311-win_amd64.whl (4.1 MB)\n",
      "   ---------------------------------------- 0.0/4.1 MB ? eta -:--:--\n",
      "   ---- ----------------------------------- 0.4/4.1 MB 9.2 MB/s eta 0:00:01\n",
      "   -------- ------------------------------- 0.9/4.1 MB 11.2 MB/s eta 0:00:01\n",
      "   ------------- -------------------------- 1.4/4.1 MB 10.8 MB/s eta 0:00:01\n",
      "   ------------------ --------------------- 1.9/4.1 MB 10.9 MB/s eta 0:00:01\n",
      "   ----------------------- ---------------- 2.4/4.1 MB 11.0 MB/s eta 0:00:01\n",
      "   --------------------------- ------------ 2.8/4.1 MB 11.3 MB/s eta 0:00:01\n",
      "   -------------------------------- ------- 3.4/4.1 MB 10.7 MB/s eta 0:00:01\n",
      "   -------------------------------------- - 3.9/4.1 MB 10.8 MB/s eta 0:00:01\n",
      "   ---------------------------------------- 4.1/4.1 MB 10.5 MB/s eta 0:00:00\n",
      "Using cached tensorboard_data_server-0.7.2-py3-none-any.whl (2.4 kB)\n",
      "Installing collected packages: tensorboard-data-server, grpcio, absl-py, tensorboard, pytorch-lightning, lightning-bolts\n",
      "  Attempting uninstall: pytorch-lightning\n",
      "    Found existing installation: pytorch-lightning 2.2.5\n",
      "    Uninstalling pytorch-lightning-2.2.5:\n",
      "      Successfully uninstalled pytorch-lightning-2.2.5\n",
      "Successfully installed absl-py-2.1.0 grpcio-1.64.0 lightning-bolts-0.7.0 pytorch-lightning-1.9.5 tensorboard-2.16.2 tensorboard-data-server-0.7.2\n",
      "Collecting torch_summary\n",
      "  Downloading torch_summary-1.4.5-py3-none-any.whl.metadata (18 kB)\n",
      "Downloading torch_summary-1.4.5-py3-none-any.whl (16 kB)\n",
      "Installing collected packages: torch_summary\n",
      "Successfully installed torch_summary-1.4.5\n"
     ]
    }
   ],
   "source": [
    "!pip install pytorch-lightning\n",
    "!pip install lightning-bolts\n",
    "!pip install torch_summary"
   ]
  },
  {
   "cell_type": "code",
   "execution_count": 1,
   "id": "bfc20923-d4ed-4a4b-a4c8-24ab1eb306ba",
   "metadata": {
    "id": "XO_VfRyl1vIt"
   },
   "outputs": [],
   "source": [
    "# 데이터 보기\n",
    "import pandas as pd\n",
    "import numpy as np\n",
    "from glob import glob\n",
    "\n",
    "# 이미지데이터 로딩\n",
    "from PIL import Image\n",
    "import cv2\n",
    "from tqdm import tqdm\n",
    "\n",
    "# random\n",
    "import random\n",
    "\n",
    "# 파일경로 설정\n",
    "import os\n",
    "import json\n",
    "\n",
    "# Others\n",
    "import warnings\n",
    "warnings.filterwarnings(\"ignore\")\n",
    "warnings.simplefilter('ignore')\n",
    "import matplotlib.pyplot as plt\n",
    "\n",
    "\n",
    "# torch\n",
    "import torch\n",
    "device = 'cuda' if torch.cuda.is_available() else 'cpu'\n",
    "from torch.utils.data import Dataset, DataLoader, SubsetRandomSampler, SequentialSampler\n",
    "from torchvision import datasets, models, transforms\n",
    "from random import seed,shuffle\n",
    "from torch import nn\n",
    "import torch.nn.functional as F\n",
    "from torchsummary import summary\n"
   ]
  },
  {
   "cell_type": "markdown",
   "id": "1b787ec7-4c27-42df-ab0e-a88a502068d4",
   "metadata": {
    "id": "-pKYODLWmTRX",
    "tags": []
   },
   "source": [
    "### DataPath 설정"
   ]
  },
  {
   "cell_type": "code",
   "execution_count": 2,
   "id": "01b6a9a6-e637-436b-8b5b-7951581b7329",
   "metadata": {
    "id": "p7lFkrXHfbi9"
   },
   "outputs": [],
   "source": [
    "data_path = 'datasets/Celeb-DF-v2'\n",
    "\n",
    "real_path = data_path + '/Celeb-real' \n",
    "fake_path = data_path + '/Celeb-synthesis'"
   ]
  },
  {
   "cell_type": "code",
   "execution_count": 3,
   "id": "bb8c45ad-cfe7-4861-9102-d21c455e66b9",
   "metadata": {
    "id": "qVc-ztLcwYJp"
   },
   "outputs": [],
   "source": [
    "from glob import glob\n",
    "VIDEO_PATH_REAL_LIST = glob(real_path+'/*')+ glob('./Youtube-real/*/*.jpg')\n",
    "VIDEO_PATH_FAKE_LIST = glob(fake_path+'/*')\n",
    "\n",
    "VIDEO_PATH_FULL_LIST = VIDEO_PATH_REAL_LIST + VIDEO_PATH_FAKE_LIST"
   ]
  },
  {
   "cell_type": "markdown",
   "id": "db2b8365-128d-4a66-8e54-60564053fb07",
   "metadata": {
    "id": "AFTKNlapmbgI",
    "tags": []
   },
   "source": [
    "### Dataset"
   ]
  },
  {
   "cell_type": "code",
   "execution_count": 4,
   "id": "05ee192b-407e-4108-9ad0-ae599aee1a0f",
   "metadata": {
    "id": "fq_unbcGD3y9"
   },
   "outputs": [],
   "source": [
    "def VideoFrames(video_path_list):\n",
    "    video_lists = []\n",
    "    for i in video_path_list :\n",
    "        video_lists.append(sorted(glob(i+'/*'))[:5])\n",
    "    return video_lists\n",
    "\n",
    "# function of that a video transform to iamges (with path)"
   ]
  },
  {
   "cell_type": "code",
   "execution_count": 5,
   "id": "188765a9-030a-48bf-85f9-5f77c072072d",
   "metadata": {
    "id": "U-HXi9-BqU9a",
    "scrolled": true
   },
   "outputs": [
    {
     "name": "stdout",
     "output_type": "stream",
     "text": [
      "1\n",
      "['datasets/Celeb-DF-v2/Celeb-real\\\\id27_0005\\\\00000.jpg']\n"
     ]
    }
   ],
   "source": [
    "for i in VideoFrames(VIDEO_PATH_FULL_LIST):\n",
    "    if len(i) != 5:\n",
    "        print(len(i))\n",
    "        print(i)\n",
    "        #/Celeb-real/id27_0005/00000.jpg"
   ]
  },
  {
   "cell_type": "code",
   "execution_count": 6,
   "id": "8a9eadaa-f488-4d34-a396-15d965e8db0e",
   "metadata": {
    "id": "EBFvBlzfD0PR"
   },
   "outputs": [],
   "source": [
    "VIDEO_PATH_FULL_LIST.remove('datasets/Celeb-DF-v2/Celeb-real\\\\id27_0005')"
   ]
  },
  {
   "cell_type": "code",
   "execution_count": 7,
   "id": "f7d5b110-0226-49b2-b2ad-f4fb83c2e0cf",
   "metadata": {
    "id": "fAHelf49MUpT"
   },
   "outputs": [],
   "source": [
    "class CelebDfDataset4D(Dataset):\n",
    "    def __init__ (self, video_path_list, transform=None): # numFrames = 50\n",
    "        # self.path_list = data_path_list \n",
    "        self.video_list = video_path_list\n",
    "        self.transform = transform\n",
    "        # self.count = numFrames\n",
    "        seed(10)\n",
    "        shuffle(self.video_list)\n",
    "\n",
    "        self.VideoFrameList = VideoFrames(self.video_list)\n",
    "\n",
    "        self.label = [1.0 if video.split('-')[-1].startswith('real') else 0.0 for video in self.video_list] \n",
    "\n",
    "    def __len__(self):\n",
    "        return len(self.video_list)\n",
    "\n",
    "    def __getitem__(self, idx):\n",
    "        # for recurrent network\n",
    "        video_path = self.video_list[idx]\n",
    "        frames = []\n",
    "        if torch.is_tensor(idx):\n",
    "            idx = idx.tolist()\n",
    "\n",
    "        for i,frame in enumerate(self.VideoFrameList[idx]):\n",
    "            frame = cv2.imread(frame)[:,:,::-1] \n",
    "\n",
    "            \n",
    "            frames.append(self.transform(frame))\n",
    "        \n",
    "        frames = torch.stack(frames)    \n",
    "        label  = self.label[idx]\n",
    "\n",
    "        return torch.tensor(frames/255).to(device), torch.tensor(label).to(device) # 근데 device로 보내는거 안해도됨???\n",
    "\n"
   ]
  },
  {
   "cell_type": "code",
   "execution_count": 8,
   "id": "ffe9ff0b-df96-43b2-8561-7a54aac35eac",
   "metadata": {
    "id": "bFWh4E7LDISn"
   },
   "outputs": [],
   "source": [
    "shuffle(VIDEO_PATH_FULL_LIST)"
   ]
  },
  {
   "cell_type": "code",
   "execution_count": 9,
   "id": "2e5fd293-de49-4724-84ef-80a019ef2ab1",
   "metadata": {
    "id": "eBxyU1rtDKyy"
   },
   "outputs": [],
   "source": [
    "train_videos = VIDEO_PATH_FULL_LIST[:int(0.8*len(VIDEO_PATH_FULL_LIST))]\n",
    "test_videos = VIDEO_PATH_FULL_LIST[int(0.8*len(VIDEO_PATH_FULL_LIST)):]"
   ]
  },
  {
   "cell_type": "code",
   "execution_count": 10,
   "id": "2daff431-7475-40bc-932b-bac976aaa875",
   "metadata": {
    "id": "l9VQM0GsL7SA"
   },
   "outputs": [],
   "source": [
    "# map을 통해서 각 리스트에서 조건에 맞춰서 1 0으로 바꾼다음에 개수 세면 될 듯\n",
    "def num_real_fake(videos) :\n",
    "    realfake = list(map(lambda x: 1 if 'real' in x else 0 ,videos))\n",
    "    num_real = realfake.count(1)\n",
    "    num_fake = len(realfake) - num_real\n",
    "    return num_real, num_fake"
   ]
  },
  {
   "cell_type": "code",
   "execution_count": 11,
   "id": "2524aebb-66cf-4607-b0fc-6ec82e4bdcb5",
   "metadata": {
    "colab": {
     "base_uri": "https://localhost:8080/"
    },
    "id": "-FvEnGnDNO5O",
    "outputId": "76609885-1083-4ff0-a6df-2e7e795fbc98"
   },
   "outputs": [
    {
     "data": {
      "text/plain": [
       "(471, 2380)"
      ]
     },
     "execution_count": 11,
     "metadata": {},
     "output_type": "execute_result"
    }
   ],
   "source": [
    "num_real_fake(train_videos)"
   ]
  },
  {
   "cell_type": "code",
   "execution_count": 12,
   "id": "a85bfbcc-8841-47d4-a894-ba638026cc7f",
   "metadata": {
    "colab": {
     "base_uri": "https://localhost:8080/"
    },
    "id": "xjoO-SUaNtE6",
    "outputId": "e0872b9d-de3d-4776-efa7-f17d8962da81"
   },
   "outputs": [
    {
     "data": {
      "text/plain": [
       "(118, 595)"
      ]
     },
     "execution_count": 12,
     "metadata": {},
     "output_type": "execute_result"
    }
   ],
   "source": [
    "num_real_fake(test_videos)"
   ]
  },
  {
   "cell_type": "code",
   "execution_count": 13,
   "id": "49fb689a-a50c-4d84-81fe-ab539b7740b8",
   "metadata": {
    "id": "9iZgB6MzJmeP"
   },
   "outputs": [],
   "source": [
    "# load the labels and video in data loader\n",
    "\n",
    "im_size = 224\n",
    "mean = [0.485]\n",
    "std = [0.229]\n",
    "\n",
    "train_transforms = transforms.Compose([\n",
    "                                        transforms.ToPILImage(),\n",
    "                                        transforms.Resize((im_size,im_size)),\n",
    "                                        transforms.ToTensor(),\n",
    "                                        transforms.Normalize(mean,std),\n",
    "                                        transforms.Grayscale(num_output_channels=3)])\n",
    "\n",
    "test_transforms = transforms.Compose([\n",
    "                                        transforms.ToPILImage(),\n",
    "                                        transforms.Resize((im_size,im_size)),\n",
    "                                        transforms.ToTensor(),\n",
    "                                        transforms.Normalize(mean,std),\n",
    "                                        transforms.Grayscale(num_output_channels=3)])\n",
    "train_data = CelebDfDataset4D(train_videos,transform = train_transforms)\n",
    "test_data = CelebDfDataset4D(test_videos,transform = train_transforms)\n",
    "train_loader = DataLoader(train_data,batch_size = 1,shuffle = False)\n",
    "\n",
    "test_loader = DataLoader(test_data,batch_size = 1,shuffle = False)\n"
   ]
  },
  {
   "cell_type": "code",
   "execution_count": 14,
   "id": "6a7d3f24-b809-4739-9473-4ce708f76087",
   "metadata": {
    "id": "uAMmIL__koaD"
   },
   "outputs": [],
   "source": [
    "MEAN = torch.tensor([0.485, 0.456, 0.406]).to(device)\n",
    "STD = torch.tensor([0.229, 0.224, 0.225]).to(device)"
   ]
  },
  {
   "cell_type": "code",
   "execution_count": 15,
   "id": "bf40bf6e-3b94-47cb-889a-d4479d8e3900",
   "metadata": {
    "id": "jokGOR65eYaF"
   },
   "outputs": [],
   "source": [
    "def custom_imshow(img):\n",
    "    \n",
    "    img = img*255\n",
    "    img = img * STD[:, None, None] + MEAN[:, None, None]\n",
    "    img = img.cpu().numpy()\n",
    "\n",
    "    plt.imshow(np.transpose(img, (1, 2, 0))) \n",
    "    plt.show()"
   ]
  },
  {
   "cell_type": "markdown",
   "id": "96128ebc-8261-4346-8373-5c3b6b4d666e",
   "metadata": {
    "id": "2DqlcvcomoTB",
    "tags": []
   },
   "source": [
    "### Dataset 확인"
   ]
  },
  {
   "cell_type": "code",
   "execution_count": 16,
   "id": "64742cdf-89cc-4348-9b02-e3bfdd71f693",
   "metadata": {
    "colab": {
     "base_uri": "https://localhost:8080/",
     "height": 287
    },
    "id": "ij2CyoIMhTrJ",
    "outputId": "29f51793-ee2f-409d-b5e8-87d7ae17f242"
   },
   "outputs": [
    {
     "name": "stderr",
     "output_type": "stream",
     "text": [
      "Clipping input data to the valid range for imshow with RGB data ([0..1] for floats or [0..255] for integers).\n"
     ]
    },
    {
     "name": "stdout",
     "output_type": "stream",
     "text": [
      "torch.Size([5, 3, 224, 224])\n"
     ]
    },
    {
     "data": {
      "image/png": "[encoded data removed]",
      "text/plain": [
       "<Figure size 640x480 with 1 Axes>"
      ]
     },
     "metadata": {},
     "output_type": "display_data"
    }
   ],
   "source": [
    "images,label = train_data[0]\n",
    "print(images.shape) # numframes channels, width, height)\n",
    "custom_imshow(images[0,:,:,:])"
   ]
  },
  {
   "cell_type": "markdown",
   "id": "7fcd6b35-be5f-471c-840c-f0203a48d525",
   "metadata": {
    "id": "cBFz7gGtn3t-",
    "tags": []
   },
   "source": [
    "### get model"
   ]
  },
  {
   "cell_type": "code",
   "execution_count": 18,
   "id": "975415be-50a5-45fe-a358-baab0ca871b9",
   "metadata": {},
   "outputs": [],
   "source": [
    "class Model(nn.Module):\n",
    "\n",
    "    def __init__(self):\n",
    "        super().__init__()\n",
    "\n",
    "    def initialize(self):\n",
    "        for m in self.modules():\n",
    "            if isinstance(m, nn.Conv2d):\n",
    "                nn.init.kaiming_uniform_(m.weight, mode='fan_in', nonlinearity='relu')\n",
    "                if m.bias is not None:\n",
    "                    nn.init.constant_(m.bias, 0)\n",
    "            elif isinstance(m, nn.BatchNorm2d):\n",
    "                nn.init.constant_(m.weight, 1)\n",
    "                nn.init.constant_(m.bias, 0)"
   ]
  },
  {
   "cell_type": "code",
   "execution_count": 21,
   "id": "a6b2c781-d77e-46b1-90bb-63799b4b261d",
   "metadata": {},
   "outputs": [],
   "source": [
    "class EncoderDecoder(Model):\n",
    "\n",
    "    def __init__(self, encoder, decoder, activation, classifier):\n",
    "        super().__init__()\n",
    "        self.encoder = encoder\n",
    "        self.decoder = decoder\n",
    "        self.classifier = classifier\n",
    "\n",
    "        if callable(activation) or activation is None:\n",
    "            self.activation = activation\n",
    "        elif activation == 'softmax':\n",
    "            self.activation = nn.Softmax(dim=1)\n",
    "        elif activation == 'sigmoid':\n",
    "            self.activation = nn.Sigmoid()\n",
    "        else:\n",
    "            raise ValueError('Activation should be \"sigmoid\"/\"softmax\"/callable/None')\n",
    "\n",
    "    def forward(self, x):\n",
    "        \"\"\"Sequentially pass `x` trough model`s `encoder` and `decoder` (return logits!)\"\"\"\n",
    "        batch_size,seq_length, c, h, w = x.shape\n",
    "        x = x.view(batch_size * seq_length, c, h, w) \n",
    "        x0 = self.encoder.conv1(x)\n",
    "        x0 = self.encoder.bn1(x0)\n",
    "        x0 = self.encoder.relu(x0)\n",
    "\n",
    "        x1 = self.encoder.maxpool(x0)\n",
    "        x1 = self.encoder.layer1(x1)\n",
    "\n",
    "        x2 = self.encoder.layer2(x1)\n",
    "        x3 = self.encoder.layer3(x2)\n",
    "        x4 = self.encoder.layer4(x3)\n",
    "\n",
    "        x = self.decoder([x4, x3, x2, x1, x0])\n",
    "        x = self.classifier(x)\n",
    "        return x"
   ]
  },
  {
   "cell_type": "code",
   "execution_count": 22,
   "id": "d1deb72e-d8b2-444e-b0b5-cffa413aea64",
   "metadata": {},
   "outputs": [],
   "source": [
    "class Conv3x3GNReLU(nn.Module):\n",
    "    def __init__(self, in_channels, out_channels, upsample=False):\n",
    "        super().__init__()\n",
    "        self.upsample = upsample\n",
    "        self.block = nn.Sequential(\n",
    "            nn.Conv2d(in_channels, out_channels, (3, 3),\n",
    "                      stride=1, padding=1, bias=False),\n",
    "            nn.GroupNorm(32, out_channels),\n",
    "            nn.ReLU(inplace=True),\n",
    "        )\n",
    "\n",
    "    def forward(self, x):\n",
    "        x = self.block(x)\n",
    "        if self.upsample:\n",
    "            x = F.interpolate(x, scale_factor=2, mode='bilinear', align_corners=True)\n",
    "        return x\n"
   ]
  },
  {
   "cell_type": "code",
   "execution_count": 23,
   "id": "9af8057e-ecaf-4788-bf8a-702ebe46314c",
   "metadata": {},
   "outputs": [],
   "source": [
    "class FPNBlock(nn.Module):\n",
    "    def __init__(self, pyramid_channels, skip_channels):\n",
    "        super().__init__()\n",
    "        self.skip_conv = nn.Conv2d(skip_channels, pyramid_channels, kernel_size=1)\n",
    "\n",
    "    def forward(self, x):\n",
    "        x, skip = x\n",
    "\n",
    "        x = F.interpolate(x, scale_factor=2, mode='nearest')\n",
    "        skip = self.skip_conv(skip)\n",
    "\n",
    "        x = x + skip\n",
    "        return x"
   ]
  },
  {
   "cell_type": "code",
   "execution_count": 24,
   "id": "acbc3f32-cebf-40b5-acca-9d6eaad61a9e",
   "metadata": {},
   "outputs": [],
   "source": [
    "class SegmentationBlock(nn.Module):\n",
    "    def __init__(self, in_channels, out_channels, n_upsamples=0):\n",
    "        super().__init__()\n",
    "\n",
    "        blocks = [\n",
    "            Conv3x3GNReLU(in_channels, out_channels, upsample=bool(n_upsamples))\n",
    "        ]\n",
    "\n",
    "        if n_upsamples > 1:\n",
    "            for _ in range(1, n_upsamples):\n",
    "                blocks.append(Conv3x3GNReLU(out_channels, out_channels, upsample=True))\n",
    "\n",
    "        self.block = nn.Sequential(*blocks)\n",
    "\n",
    "    def forward(self, x):\n",
    "        return self.block(x)\n"
   ]
  },
  {
   "cell_type": "code",
   "execution_count": 25,
   "id": "cee84d49-031b-4f0c-ab7e-8586765c4ad5",
   "metadata": {},
   "outputs": [],
   "source": [
    "class FPNDecoder(Model):\n",
    "\n",
    "    def __init__(\n",
    "            self,\n",
    "            encoder_channels,\n",
    "            pyramid_channels=64,\n",
    "            segmentation_channels=32,\n",
    "            final_upsampling=4,\n",
    "            final_channels=3,\n",
    "            dropout=0.2,\n",
    "            merge_policy='add'\n",
    "    ):\n",
    "        super().__init__()\n",
    "\n",
    "        if merge_policy not in ['add', 'cat']:\n",
    "            raise ValueError(\"`merge_policy` must be one of: ['add', 'cat'], got {}\".format(merge_policy))\n",
    "        self.merge_policy = merge_policy\n",
    "\n",
    "        self.final_upsampling = final_upsampling\n",
    "        self.conv1 = nn.Conv2d(encoder_channels[1], pyramid_channels, kernel_size=(1, 1))\n",
    "\n",
    "        self.p4 = FPNBlock(pyramid_channels, encoder_channels[2])\n",
    "        self.p3 = FPNBlock(pyramid_channels, encoder_channels[3])\n",
    "        self.p2 = FPNBlock(pyramid_channels, encoder_channels[4])\n",
    "\n",
    "        self.s5 = SegmentationBlock(pyramid_channels, segmentation_channels, n_upsamples=3)\n",
    "        self.s4 = SegmentationBlock(pyramid_channels, segmentation_channels, n_upsamples=2)\n",
    "        self.s3 = SegmentationBlock(pyramid_channels, segmentation_channels, n_upsamples=1)\n",
    "        self.s2 = SegmentationBlock(pyramid_channels, segmentation_channels, n_upsamples=0)\n",
    "\n",
    "        self.dropout = nn.Dropout2d(p=dropout, inplace=True)\n",
    "\n",
    "        if self.merge_policy == 'cat':\n",
    "            segmentation_channels *= 4\n",
    "\n",
    "        self.final_conv = nn.Conv2d(segmentation_channels, final_channels, kernel_size=1, padding=0)\n",
    "\n",
    "        self.initialize()\n",
    "\n",
    "    def forward(self, x):\n",
    "        c5, c4, c3, c2, _ = x\n",
    "\n",
    "        p5 = self.conv1(c5)\n",
    "        p4 = self.p4([p5, c4])\n",
    "        p3 = self.p3([p4, c3])\n",
    "        p2 = self.p2([p3, c2])\n",
    "\n",
    "        s5 = self.s5(p5)\n",
    "        s4 = self.s4(p4)\n",
    "        s3 = self.s3(p3)\n",
    "        s2 = self.s2(p2)\n",
    "\n",
    "        if self.merge_policy == 'add':\n",
    "            x = s5 + s4 + s3 + s2\n",
    "        elif self.merge_policy == 'cat':\n",
    "            x = torch.cat([s5, s4, s3, s2], dim=1)\n",
    "\n",
    "        x = self.dropout(x)\n",
    "        x = self.final_conv(x)\n",
    "\n",
    "        if self.final_upsampling is not None and self.final_upsampling > 1:\n",
    "            x = F.interpolate(x, scale_factor=self.final_upsampling, mode='bilinear', align_corners=True)\n",
    "        return x"
   ]
  },
  {
   "cell_type": "code",
   "execution_count": 26,
   "id": "3b7bdc42-1704-4c31-b9f9-4d501fed76ea",
   "metadata": {},
   "outputs": [],
   "source": [
    "class swin3d_transformer(Model):\n",
    "    def __init__(\n",
    "            self,\n",
    "            num_classes = 2\n",
    "    ):\n",
    "        super().__init__()\n",
    "\n",
    "        self.swin3d = models.video.swin_transformer.swin3d_t()\n",
    "        self.linear = nn.Linear(400,num_classes)\n",
    "        self.sigmoid = nn.Sigmoid()\n",
    "\n",
    "    def forward(self,x):\n",
    "        x = x.permute(1,0,2,3).unsqueeze(0)\n",
    "        x = self.swin3d(x)\n",
    "        x = self.linear(x)\n",
    "        x = self.sigmoid(x)\n",
    "        x = x.to(torch.float32)\n",
    "        return x"
   ]
  },
  {
   "cell_type": "code",
   "execution_count": 27,
   "id": "45786b68-38c9-43ae-9fe2-5511085eca01",
   "metadata": {},
   "outputs": [],
   "source": [
    "class FPN(EncoderDecoder):\n",
    "    def __init__(\n",
    "            self,\n",
    "            encoder_name='resnet50',\n",
    "            pretrained=True,\n",
    "            decoder_pyramid_channels=256,\n",
    "            decoder_segmentation_channels=256,\n",
    "            classes=1,\n",
    "            dropout=0.2,\n",
    "            activation=None,\n",
    "            final_upsampling=4,\n",
    "            decoder_merge_policy='add',\n",
    "            resnet50_ = 'weights/gray_200epochs_resnet50.tar'\n",
    "    ):\n",
    "        # get encoder - resnext50\n",
    "        # encoder = torchvision.models.resnext50_32x4d(pretrained=pretrained)\n",
    "\n",
    "        encoder = self.load_model(resnet50_)\n",
    "        #filters_dict = [512, 512, 256, 128, 64]\n",
    "        filters_dict = [2048, 2048, 1024, 512, 256]\n",
    "        encoder.out_shapes = filters_dict\n",
    "\n",
    "        decoder = FPNDecoder(\n",
    "            encoder_channels=encoder.out_shapes,\n",
    "            pyramid_channels=decoder_pyramid_channels,\n",
    "            segmentation_channels=decoder_segmentation_channels,\n",
    "            final_channels=3,\n",
    "            dropout=dropout,\n",
    "            final_upsampling=final_upsampling,\n",
    "            merge_policy=decoder_merge_policy\n",
    "        )\n",
    "\n",
    "        classifier = swin3d_transformer(\n",
    "            num_classes = classes\n",
    "        )\n",
    "\n",
    "        super().__init__(encoder, decoder, activation, classifier)\n",
    "\n",
    "        self.name = 'fpn-{}'.format(encoder_name)\n",
    "\n",
    "    def load_model(self,path):\n",
    "        model = models.resnet50(pretrained=False)\n",
    "        checkpoint = torch.load(path)\n",
    "        for key in list(checkpoint['state_dict'].keys()):\n",
    "            name=('.').join(key.split('.')[1:])\n",
    "            checkpoint['state_dict'][name]=checkpoint['state_dict'].pop(key)\n",
    "            # 딕셔너리 키 값 변경하기\n",
    "        model.load_state_dict(checkpoint['state_dict'],strict=False)\n",
    "        return model"
   ]
  },
  {
   "cell_type": "code",
   "execution_count": 28,
   "id": "e72ef255-352b-4b98-8517-c61e2f2b213a",
   "metadata": {
    "scrolled": true
   },
   "outputs": [
    {
     "data": {
      "text/plain": [
       "FPN(\n",
       "  (encoder): ResNet(\n",
       "    (conv1): Conv2d(3, 64, kernel_size=(7, 7), stride=(2, 2), padding=(3, 3), bias=False)\n",
       "    (bn1): BatchNorm2d(64, eps=1e-05, momentum=0.1, affine=True, track_running_stats=True)\n",
       "    (relu): ReLU(inplace=True)\n",
       "    (maxpool): MaxPool2d(kernel_size=3, stride=2, padding=1, dilation=1, ceil_mode=False)\n",
       "    (layer1): Sequential(\n",
       "      (0): Bottleneck(\n",
       "        (conv1): Conv2d(64, 64, kernel_size=(1, 1), stride=(1, 1), bias=False)\n",
       "        (bn1): BatchNorm2d(64, eps=1e-05, momentum=0.1, affine=True, track_running_stats=True)\n",
       "        (conv2): Conv2d(64, 64, kernel_size=(3, 3), stride=(1, 1), padding=(1, 1), bias=False)\n",
       "        (bn2): BatchNorm2d(64, eps=1e-05, momentum=0.1, affine=True, track_running_stats=True)\n",
       "        (conv3): Conv2d(64, 256, kernel_size=(1, 1), stride=(1, 1), bias=False)\n",
       "        (bn3): BatchNorm2d(256, eps=1e-05, momentum=0.1, affine=True, track_running_stats=True)\n",
       "        (relu): ReLU(inplace=True)\n",
       "        (downsample): Sequential(\n",
       "          (0): Conv2d(64, 256, kernel_size=(1, 1), stride=(1, 1), bias=False)\n",
       "          (1): BatchNorm2d(256, eps=1e-05, momentum=0.1, affine=True, track_running_stats=True)\n",
       "        )\n",
       "      )\n",
       "      (1): Bottleneck(\n",
       "        (conv1): Conv2d(256, 64, kernel_size=(1, 1), stride=(1, 1), bias=False)\n",
       "        (bn1): BatchNorm2d(64, eps=1e-05, momentum=0.1, affine=True, track_running_stats=True)\n",
       "        (conv2): Conv2d(64, 64, kernel_size=(3, 3), stride=(1, 1), padding=(1, 1), bias=False)\n",
       "        (bn2): BatchNorm2d(64, eps=1e-05, momentum=0.1, affine=True, track_running_stats=True)\n",
       "        (conv3): Conv2d(64, 256, kernel_size=(1, 1), stride=(1, 1), bias=False)\n",
       "        (bn3): BatchNorm2d(256, eps=1e-05, momentum=0.1, affine=True, track_running_stats=True)\n",
       "        (relu): ReLU(inplace=True)\n",
       "      )\n",
       "      (2): Bottleneck(\n",
       "        (conv1): Conv2d(256, 64, kernel_size=(1, 1), stride=(1, 1), bias=False)\n",
       "        (bn1): BatchNorm2d(64, eps=1e-05, momentum=0.1, affine=True, track_running_stats=True)\n",
       "        (conv2): Conv2d(64, 64, kernel_size=(3, 3), stride=(1, 1), padding=(1, 1), bias=False)\n",
       "        (bn2): BatchNorm2d(64, eps=1e-05, momentum=0.1, affine=True, track_running_stats=True)\n",
       "        (conv3): Conv2d(64, 256, kernel_size=(1, 1), stride=(1, 1), bias=False)\n",
       "        (bn3): BatchNorm2d(256, eps=1e-05, momentum=0.1, affine=True, track_running_stats=True)\n",
       "        (relu): ReLU(inplace=True)\n",
       "      )\n",
       "    )\n",
       "    (layer2): Sequential(\n",
       "      (0): Bottleneck(\n",
       "        (conv1): Conv2d(256, 128, kernel_size=(1, 1), stride=(1, 1), bias=False)\n",
       "        (bn1): BatchNorm2d(128, eps=1e-05, momentum=0.1, affine=True, track_running_stats=True)\n",
       "        (conv2): Conv2d(128, 128, kernel_size=(3, 3), stride=(2, 2), padding=(1, 1), bias=False)\n",
       "        (bn2): BatchNorm2d(128, eps=1e-05, momentum=0.1, affine=True, track_running_stats=True)\n",
       "        (conv3): Conv2d(128, 512, kernel_size=(1, 1), stride=(1, 1), bias=False)\n",
       "        (bn3): BatchNorm2d(512, eps=1e-05, momentum=0.1, affine=True, track_running_stats=True)\n",
       "        (relu): ReLU(inplace=True)\n",
       "        (downsample): Sequential(\n",
       "          (0): Conv2d(256, 512, kernel_size=(1, 1), stride=(2, 2), bias=False)\n",
       "          (1): BatchNorm2d(512, eps=1e-05, momentum=0.1, affine=True, track_running_stats=True)\n",
       "        )\n",
       "      )\n",
       "      (1): Bottleneck(\n",
       "        (conv1): Conv2d(512, 128, kernel_size=(1, 1), stride=(1, 1), bias=False)\n",
       "        (bn1): BatchNorm2d(128, eps=1e-05, momentum=0.1, affine=True, track_running_stats=True)\n",
       "        (conv2): Conv2d(128, 128, kernel_size=(3, 3), stride=(1, 1), padding=(1, 1), bias=False)\n",
       "        (bn2): BatchNorm2d(128, eps=1e-05, momentum=0.1, affine=True, track_running_stats=True)\n",
       "        (conv3): Conv2d(128, 512, kernel_size=(1, 1), stride=(1, 1), bias=False)\n",
       "        (bn3): BatchNorm2d(512, eps=1e-05, momentum=0.1, affine=True, track_running_stats=True)\n",
       "        (relu): ReLU(inplace=True)\n",
       "      )\n",
       "      (2): Bottleneck(\n",
       "        (conv1): Conv2d(512, 128, kernel_size=(1, 1), stride=(1, 1), bias=False)\n",
       "        (bn1): BatchNorm2d(128, eps=1e-05, momentum=0.1, affine=True, track_running_stats=True)\n",
       "        (conv2): Conv2d(128, 128, kernel_size=(3, 3), stride=(1, 1), padding=(1, 1), bias=False)\n",
       "        (bn2): BatchNorm2d(128, eps=1e-05, momentum=0.1, affine=True, track_running_stats=True)\n",
       "        (conv3): Conv2d(128, 512, kernel_size=(1, 1), stride=(1, 1), bias=False)\n",
       "        (bn3): BatchNorm2d(512, eps=1e-05, momentum=0.1, affine=True, track_running_stats=True)\n",
       "        (relu): ReLU(inplace=True)\n",
       "      )\n",
       "      (3): Bottleneck(\n",
       "        (conv1): Conv2d(512, 128, kernel_size=(1, 1), stride=(1, 1), bias=False)\n",
       "        (bn1): BatchNorm2d(128, eps=1e-05, momentum=0.1, affine=True, track_running_stats=True)\n",
       "        (conv2): Conv2d(128, 128, kernel_size=(3, 3), stride=(1, 1), padding=(1, 1), bias=False)\n",
       "        (bn2): BatchNorm2d(128, eps=1e-05, momentum=0.1, affine=True, track_running_stats=True)\n",
       "        (conv3): Conv2d(128, 512, kernel_size=(1, 1), stride=(1, 1), bias=False)\n",
       "        (bn3): BatchNorm2d(512, eps=1e-05, momentum=0.1, affine=True, track_running_stats=True)\n",
       "        (relu): ReLU(inplace=True)\n",
       "      )\n",
       "    )\n",
       "    (layer3): Sequential(\n",
       "      (0): Bottleneck(\n",
       "        (conv1): Conv2d(512, 256, kernel_size=(1, 1), stride=(1, 1), bias=False)\n",
       "        (bn1): BatchNorm2d(256, eps=1e-05, momentum=0.1, affine=True, track_running_stats=True)\n",
       "        (conv2): Conv2d(256, 256, kernel_size=(3, 3), stride=(2, 2), padding=(1, 1), bias=False)\n",
       "        (bn2): BatchNorm2d(256, eps=1e-05, momentum=0.1, affine=True, track_running_stats=True)\n",
       "        (conv3): Conv2d(256, 1024, kernel_size=(1, 1), stride=(1, 1), bias=False)\n",
       "        (bn3): BatchNorm2d(1024, eps=1e-05, momentum=0.1, affine=True, track_running_stats=True)\n",
       "        (relu): ReLU(inplace=True)\n",
       "        (downsample): Sequential(\n",
       "          (0): Conv2d(512, 1024, kernel_size=(1, 1), stride=(2, 2), bias=False)\n",
       "          (1): BatchNorm2d(1024, eps=1e-05, momentum=0.1, affine=True, track_running_stats=True)\n",
       "        )\n",
       "      )\n",
       "      (1): Bottleneck(\n",
       "        (conv1): Conv2d(1024, 256, kernel_size=(1, 1), stride=(1, 1), bias=False)\n",
       "        (bn1): BatchNorm2d(256, eps=1e-05, momentum=0.1, affine=True, track_running_stats=True)\n",
       "        (conv2): Conv2d(256, 256, kernel_size=(3, 3), stride=(1, 1), padding=(1, 1), bias=False)\n",
       "        (bn2): BatchNorm2d(256, eps=1e-05, momentum=0.1, affine=True, track_running_stats=True)\n",
       "        (conv3): Conv2d(256, 1024, kernel_size=(1, 1), stride=(1, 1), bias=False)\n",
       "        (bn3): BatchNorm2d(1024, eps=1e-05, momentum=0.1, affine=True, track_running_stats=True)\n",
       "        (relu): ReLU(inplace=True)\n",
       "      )\n",
       "      (2): Bottleneck(\n",
       "        (conv1): Conv2d(1024, 256, kernel_size=(1, 1), stride=(1, 1), bias=False)\n",
       "        (bn1): BatchNorm2d(256, eps=1e-05, momentum=0.1, affine=True, track_running_stats=True)\n",
       "        (conv2): Conv2d(256, 256, kernel_size=(3, 3), stride=(1, 1), padding=(1, 1), bias=False)\n",
       "        (bn2): BatchNorm2d(256, eps=1e-05, momentum=0.1, affine=True, track_running_stats=True)\n",
       "        (conv3): Conv2d(256, 1024, kernel_size=(1, 1), stride=(1, 1), bias=False)\n",
       "        (bn3): BatchNorm2d(1024, eps=1e-05, momentum=0.1, affine=True, track_running_stats=True)\n",
       "        (relu): ReLU(inplace=True)\n",
       "      )\n",
       "      (3): Bottleneck(\n",
       "        (conv1): Conv2d(1024, 256, kernel_size=(1, 1), stride=(1, 1), bias=False)\n",
       "        (bn1): BatchNorm2d(256, eps=1e-05, momentum=0.1, affine=True, track_running_stats=True)\n",
       "        (conv2): Conv2d(256, 256, kernel_size=(3, 3), stride=(1, 1), padding=(1, 1), bias=False)\n",
       "        (bn2): BatchNorm2d(256, eps=1e-05, momentum=0.1, affine=True, track_running_stats=True)\n",
       "        (conv3): Conv2d(256, 1024, kernel_size=(1, 1), stride=(1, 1), bias=False)\n",
       "        (bn3): BatchNorm2d(1024, eps=1e-05, momentum=0.1, affine=True, track_running_stats=True)\n",
       "        (relu): ReLU(inplace=True)\n",
       "      )\n",
       "      (4): Bottleneck(\n",
       "        (conv1): Conv2d(1024, 256, kernel_size=(1, 1), stride=(1, 1), bias=False)\n",
       "        (bn1): BatchNorm2d(256, eps=1e-05, momentum=0.1, affine=True, track_running_stats=True)\n",
       "        (conv2): Conv2d(256, 256, kernel_size=(3, 3), stride=(1, 1), padding=(1, 1), bias=False)\n",
       "        (bn2): BatchNorm2d(256, eps=1e-05, momentum=0.1, affine=True, track_running_stats=True)\n",
       "        (conv3): Conv2d(256, 1024, kernel_size=(1, 1), stride=(1, 1), bias=False)\n",
       "        (bn3): BatchNorm2d(1024, eps=1e-05, momentum=0.1, affine=True, track_running_stats=True)\n",
       "        (relu): ReLU(inplace=True)\n",
       "      )\n",
       "      (5): Bottleneck(\n",
       "        (conv1): Conv2d(1024, 256, kernel_size=(1, 1), stride=(1, 1), bias=False)\n",
       "        (bn1): BatchNorm2d(256, eps=1e-05, momentum=0.1, affine=True, track_running_stats=True)\n",
       "        (conv2): Conv2d(256, 256, kernel_size=(3, 3), stride=(1, 1), padding=(1, 1), bias=False)\n",
       "        (bn2): BatchNorm2d(256, eps=1e-05, momentum=0.1, affine=True, track_running_stats=True)\n",
       "        (conv3): Conv2d(256, 1024, kernel_size=(1, 1), stride=(1, 1), bias=False)\n",
       "        (bn3): BatchNorm2d(1024, eps=1e-05, momentum=0.1, affine=True, track_running_stats=True)\n",
       "        (relu): ReLU(inplace=True)\n",
       "      )\n",
       "    )\n",
       "    (layer4): Sequential(\n",
       "      (0): Bottleneck(\n",
       "        (conv1): Conv2d(1024, 512, kernel_size=(1, 1), stride=(1, 1), bias=False)\n",
       "        (bn1): BatchNorm2d(512, eps=1e-05, momentum=0.1, affine=True, track_running_stats=True)\n",
       "        (conv2): Conv2d(512, 512, kernel_size=(3, 3), stride=(2, 2), padding=(1, 1), bias=False)\n",
       "        (bn2): BatchNorm2d(512, eps=1e-05, momentum=0.1, affine=True, track_running_stats=True)\n",
       "        (conv3): Conv2d(512, 2048, kernel_size=(1, 1), stride=(1, 1), bias=False)\n",
       "        (bn3): BatchNorm2d(2048, eps=1e-05, momentum=0.1, affine=True, track_running_stats=True)\n",
       "        (relu): ReLU(inplace=True)\n",
       "        (downsample): Sequential(\n",
       "          (0): Conv2d(1024, 2048, kernel_size=(1, 1), stride=(2, 2), bias=False)\n",
       "          (1): BatchNorm2d(2048, eps=1e-05, momentum=0.1, affine=True, track_running_stats=True)\n",
       "        )\n",
       "      )\n",
       "      (1): Bottleneck(\n",
       "        (conv1): Conv2d(2048, 512, kernel_size=(1, 1), stride=(1, 1), bias=False)\n",
       "        (bn1): BatchNorm2d(512, eps=1e-05, momentum=0.1, affine=True, track_running_stats=True)\n",
       "        (conv2): Conv2d(512, 512, kernel_size=(3, 3), stride=(1, 1), padding=(1, 1), bias=False)\n",
       "        (bn2): BatchNorm2d(512, eps=1e-05, momentum=0.1, affine=True, track_running_stats=True)\n",
       "        (conv3): Conv2d(512, 2048, kernel_size=(1, 1), stride=(1, 1), bias=False)\n",
       "        (bn3): BatchNorm2d(2048, eps=1e-05, momentum=0.1, affine=True, track_running_stats=True)\n",
       "        (relu): ReLU(inplace=True)\n",
       "      )\n",
       "      (2): Bottleneck(\n",
       "        (conv1): Conv2d(2048, 512, kernel_size=(1, 1), stride=(1, 1), bias=False)\n",
       "        (bn1): BatchNorm2d(512, eps=1e-05, momentum=0.1, affine=True, track_running_stats=True)\n",
       "        (conv2): Conv2d(512, 512, kernel_size=(3, 3), stride=(1, 1), padding=(1, 1), bias=False)\n",
       "        (bn2): BatchNorm2d(512, eps=1e-05, momentum=0.1, affine=True, track_running_stats=True)\n",
       "        (conv3): Conv2d(512, 2048, kernel_size=(1, 1), stride=(1, 1), bias=False)\n",
       "        (bn3): BatchNorm2d(2048, eps=1e-05, momentum=0.1, affine=True, track_running_stats=True)\n",
       "        (relu): ReLU(inplace=True)\n",
       "      )\n",
       "    )\n",
       "    (avgpool): AdaptiveAvgPool2d(output_size=(1, 1))\n",
       "    (fc): Linear(in_features=2048, out_features=1000, bias=True)\n",
       "  )\n",
       "  (decoder): FPNDecoder(\n",
       "    (conv1): Conv2d(2048, 256, kernel_size=(1, 1), stride=(1, 1))\n",
       "    (p4): FPNBlock(\n",
       "      (skip_conv): Conv2d(1024, 256, kernel_size=(1, 1), stride=(1, 1))\n",
       "    )\n",
       "    (p3): FPNBlock(\n",
       "      (skip_conv): Conv2d(512, 256, kernel_size=(1, 1), stride=(1, 1))\n",
       "    )\n",
       "    (p2): FPNBlock(\n",
       "      (skip_conv): Conv2d(256, 256, kernel_size=(1, 1), stride=(1, 1))\n",
       "    )\n",
       "    (s5): SegmentationBlock(\n",
       "      (block): Sequential(\n",
       "        (0): Conv3x3GNReLU(\n",
       "          (block): Sequential(\n",
       "            (0): Conv2d(256, 256, kernel_size=(3, 3), stride=(1, 1), padding=(1, 1), bias=False)\n",
       "            (1): GroupNorm(32, 256, eps=1e-05, affine=True)\n",
       "            (2): ReLU(inplace=True)\n",
       "          )\n",
       "        )\n",
       "        (1): Conv3x3GNReLU(\n",
       "          (block): Sequential(\n",
       "            (0): Conv2d(256, 256, kernel_size=(3, 3), stride=(1, 1), padding=(1, 1), bias=False)\n",
       "            (1): GroupNorm(32, 256, eps=1e-05, affine=True)\n",
       "            (2): ReLU(inplace=True)\n",
       "          )\n",
       "        )\n",
       "        (2): Conv3x3GNReLU(\n",
       "          (block): Sequential(\n",
       "            (0): Conv2d(256, 256, kernel_size=(3, 3), stride=(1, 1), padding=(1, 1), bias=False)\n",
       "            (1): GroupNorm(32, 256, eps=1e-05, affine=True)\n",
       "            (2): ReLU(inplace=True)\n",
       "          )\n",
       "        )\n",
       "      )\n",
       "    )\n",
       "    (s4): SegmentationBlock(\n",
       "      (block): Sequential(\n",
       "        (0): Conv3x3GNReLU(\n",
       "          (block): Sequential(\n",
       "            (0): Conv2d(256, 256, kernel_size=(3, 3), stride=(1, 1), padding=(1, 1), bias=False)\n",
       "            (1): GroupNorm(32, 256, eps=1e-05, affine=True)\n",
       "            (2): ReLU(inplace=True)\n",
       "          )\n",
       "        )\n",
       "        (1): Conv3x3GNReLU(\n",
       "          (block): Sequential(\n",
       "            (0): Conv2d(256, 256, kernel_size=(3, 3), stride=(1, 1), padding=(1, 1), bias=False)\n",
       "            (1): GroupNorm(32, 256, eps=1e-05, affine=True)\n",
       "            (2): ReLU(inplace=True)\n",
       "          )\n",
       "        )\n",
       "      )\n",
       "    )\n",
       "    (s3): SegmentationBlock(\n",
       "      (block): Sequential(\n",
       "        (0): Conv3x3GNReLU(\n",
       "          (block): Sequential(\n",
       "            (0): Conv2d(256, 256, kernel_size=(3, 3), stride=(1, 1), padding=(1, 1), bias=False)\n",
       "            (1): GroupNorm(32, 256, eps=1e-05, affine=True)\n",
       "            (2): ReLU(inplace=True)\n",
       "          )\n",
       "        )\n",
       "      )\n",
       "    )\n",
       "    (s2): SegmentationBlock(\n",
       "      (block): Sequential(\n",
       "        (0): Conv3x3GNReLU(\n",
       "          (block): Sequential(\n",
       "            (0): Conv2d(256, 256, kernel_size=(3, 3), stride=(1, 1), padding=(1, 1), bias=False)\n",
       "            (1): GroupNorm(32, 256, eps=1e-05, affine=True)\n",
       "            (2): ReLU(inplace=True)\n",
       "          )\n",
       "        )\n",
       "      )\n",
       "    )\n",
       "    (dropout): Dropout2d(p=0.2, inplace=True)\n",
       "    (final_conv): Conv2d(256, 3, kernel_size=(1, 1), stride=(1, 1))\n",
       "  )\n",
       "  (classifier): swin3d_transformer(\n",
       "    (swin3d): SwinTransformer3d(\n",
       "      (patch_embed): PatchEmbed3d(\n",
       "        (proj): Conv3d(3, 96, kernel_size=(2, 4, 4), stride=(2, 4, 4))\n",
       "        (norm): LayerNorm((96,), eps=1e-05, elementwise_affine=True)\n",
       "      )\n",
       "      (pos_drop): Dropout(p=0.0, inplace=False)\n",
       "      (features): Sequential(\n",
       "        (0): Sequential(\n",
       "          (0): SwinTransformerBlock(\n",
       "            (norm1): LayerNorm((96,), eps=1e-05, elementwise_affine=True)\n",
       "            (attn): ShiftedWindowAttention3d(\n",
       "              (qkv): Linear(in_features=96, out_features=288, bias=True)\n",
       "              (proj): Linear(in_features=96, out_features=96, bias=True)\n",
       "            )\n",
       "            (stochastic_depth): StochasticDepth(p=0.0, mode=row)\n",
       "            (norm2): LayerNorm((96,), eps=1e-05, elementwise_affine=True)\n",
       "            (mlp): MLP(\n",
       "              (0): Linear(in_features=96, out_features=384, bias=True)\n",
       "              (1): GELU(approximate='none')\n",
       "              (2): Dropout(p=0.0, inplace=False)\n",
       "              (3): Linear(in_features=384, out_features=96, bias=True)\n",
       "              (4): Dropout(p=0.0, inplace=False)\n",
       "            )\n",
       "          )\n",
       "          (1): SwinTransformerBlock(\n",
       "            (norm1): LayerNorm((96,), eps=1e-05, elementwise_affine=True)\n",
       "            (attn): ShiftedWindowAttention3d(\n",
       "              (qkv): Linear(in_features=96, out_features=288, bias=True)\n",
       "              (proj): Linear(in_features=96, out_features=96, bias=True)\n",
       "            )\n",
       "            (stochastic_depth): StochasticDepth(p=0.009090909090909092, mode=row)\n",
       "            (norm2): LayerNorm((96,), eps=1e-05, elementwise_affine=True)\n",
       "            (mlp): MLP(\n",
       "              (0): Linear(in_features=96, out_features=384, bias=True)\n",
       "              (1): GELU(approximate='none')\n",
       "              (2): Dropout(p=0.0, inplace=False)\n",
       "              (3): Linear(in_features=384, out_features=96, bias=True)\n",
       "              (4): Dropout(p=0.0, inplace=False)\n",
       "            )\n",
       "          )\n",
       "        )\n",
       "        (1): PatchMerging(\n",
       "          (reduction): Linear(in_features=384, out_features=192, bias=False)\n",
       "          (norm): LayerNorm((384,), eps=1e-05, elementwise_affine=True)\n",
       "        )\n",
       "        (2): Sequential(\n",
       "          (0): SwinTransformerBlock(\n",
       "            (norm1): LayerNorm((192,), eps=1e-05, elementwise_affine=True)\n",
       "            (attn): ShiftedWindowAttention3d(\n",
       "              (qkv): Linear(in_features=192, out_features=576, bias=True)\n",
       "              (proj): Linear(in_features=192, out_features=192, bias=True)\n",
       "            )\n",
       "            (stochastic_depth): StochasticDepth(p=0.018181818181818184, mode=row)\n",
       "            (norm2): LayerNorm((192,), eps=1e-05, elementwise_affine=True)\n",
       "            (mlp): MLP(\n",
       "              (0): Linear(in_features=192, out_features=768, bias=True)\n",
       "              (1): GELU(approximate='none')\n",
       "              (2): Dropout(p=0.0, inplace=False)\n",
       "              (3): Linear(in_features=768, out_features=192, bias=True)\n",
       "              (4): Dropout(p=0.0, inplace=False)\n",
       "            )\n",
       "          )\n",
       "          (1): SwinTransformerBlock(\n",
       "            (norm1): LayerNorm((192,), eps=1e-05, elementwise_affine=True)\n",
       "            (attn): ShiftedWindowAttention3d(\n",
       "              (qkv): Linear(in_features=192, out_features=576, bias=True)\n",
       "              (proj): Linear(in_features=192, out_features=192, bias=True)\n",
       "            )\n",
       "            (stochastic_depth): StochasticDepth(p=0.02727272727272728, mode=row)\n",
       "            (norm2): LayerNorm((192,), eps=1e-05, elementwise_affine=True)\n",
       "            (mlp): MLP(\n",
       "              (0): Linear(in_features=192, out_features=768, bias=True)\n",
       "              (1): GELU(approximate='none')\n",
       "              (2): Dropout(p=0.0, inplace=False)\n",
       "              (3): Linear(in_features=768, out_features=192, bias=True)\n",
       "              (4): Dropout(p=0.0, inplace=False)\n",
       "            )\n",
       "          )\n",
       "        )\n",
       "        (3): PatchMerging(\n",
       "          (reduction): Linear(in_features=768, out_features=384, bias=False)\n",
       "          (norm): LayerNorm((768,), eps=1e-05, elementwise_affine=True)\n",
       "        )\n",
       "        (4): Sequential(\n",
       "          (0): SwinTransformerBlock(\n",
       "            (norm1): LayerNorm((384,), eps=1e-05, elementwise_affine=True)\n",
       "            (attn): ShiftedWindowAttention3d(\n",
       "              (qkv): Linear(in_features=384, out_features=1152, bias=True)\n",
       "              (proj): Linear(in_features=384, out_features=384, bias=True)\n",
       "            )\n",
       "            (stochastic_depth): StochasticDepth(p=0.03636363636363637, mode=row)\n",
       "            (norm2): LayerNorm((384,), eps=1e-05, elementwise_affine=True)\n",
       "            (mlp): MLP(\n",
       "              (0): Linear(in_features=384, out_features=1536, bias=True)\n",
       "              (1): GELU(approximate='none')\n",
       "              (2): Dropout(p=0.0, inplace=False)\n",
       "              (3): Linear(in_features=1536, out_features=384, bias=True)\n",
       "              (4): Dropout(p=0.0, inplace=False)\n",
       "            )\n",
       "          )\n",
       "          (1): SwinTransformerBlock(\n",
       "            (norm1): LayerNorm((384,), eps=1e-05, elementwise_affine=True)\n",
       "            (attn): ShiftedWindowAttention3d(\n",
       "              (qkv): Linear(in_features=384, out_features=1152, bias=True)\n",
       "              (proj): Linear(in_features=384, out_features=384, bias=True)\n",
       "            )\n",
       "            (stochastic_depth): StochasticDepth(p=0.045454545454545456, mode=row)\n",
       "            (norm2): LayerNorm((384,), eps=1e-05, elementwise_affine=True)\n",
       "            (mlp): MLP(\n",
       "              (0): Linear(in_features=384, out_features=1536, bias=True)\n",
       "              (1): GELU(approximate='none')\n",
       "              (2): Dropout(p=0.0, inplace=False)\n",
       "              (3): Linear(in_features=1536, out_features=384, bias=True)\n",
       "              (4): Dropout(p=0.0, inplace=False)\n",
       "            )\n",
       "          )\n",
       "          (2): SwinTransformerBlock(\n",
       "            (norm1): LayerNorm((384,), eps=1e-05, elementwise_affine=True)\n",
       "            (attn): ShiftedWindowAttention3d(\n",
       "              (qkv): Linear(in_features=384, out_features=1152, bias=True)\n",
       "              (proj): Linear(in_features=384, out_features=384, bias=True)\n",
       "            )\n",
       "            (stochastic_depth): StochasticDepth(p=0.05454545454545456, mode=row)\n",
       "            (norm2): LayerNorm((384,), eps=1e-05, elementwise_affine=True)\n",
       "            (mlp): MLP(\n",
       "              (0): Linear(in_features=384, out_features=1536, bias=True)\n",
       "              (1): GELU(approximate='none')\n",
       "              (2): Dropout(p=0.0, inplace=False)\n",
       "              (3): Linear(in_features=1536, out_features=384, bias=True)\n",
       "              (4): Dropout(p=0.0, inplace=False)\n",
       "            )\n",
       "          )\n",
       "          (3): SwinTransformerBlock(\n",
       "            (norm1): LayerNorm((384,), eps=1e-05, elementwise_affine=True)\n",
       "            (attn): ShiftedWindowAttention3d(\n",
       "              (qkv): Linear(in_features=384, out_features=1152, bias=True)\n",
       "              (proj): Linear(in_features=384, out_features=384, bias=True)\n",
       "            )\n",
       "            (stochastic_depth): StochasticDepth(p=0.06363636363636364, mode=row)\n",
       "            (norm2): LayerNorm((384,), eps=1e-05, elementwise_affine=True)\n",
       "            (mlp): MLP(\n",
       "              (0): Linear(in_features=384, out_features=1536, bias=True)\n",
       "              (1): GELU(approximate='none')\n",
       "              (2): Dropout(p=0.0, inplace=False)\n",
       "              (3): Linear(in_features=1536, out_features=384, bias=True)\n",
       "              (4): Dropout(p=0.0, inplace=False)\n",
       "            )\n",
       "          )\n",
       "          (4): SwinTransformerBlock(\n",
       "            (norm1): LayerNorm((384,), eps=1e-05, elementwise_affine=True)\n",
       "            (attn): ShiftedWindowAttention3d(\n",
       "              (qkv): Linear(in_features=384, out_features=1152, bias=True)\n",
       "              (proj): Linear(in_features=384, out_features=384, bias=True)\n",
       "            )\n",
       "            (stochastic_depth): StochasticDepth(p=0.07272727272727274, mode=row)\n",
       "            (norm2): LayerNorm((384,), eps=1e-05, elementwise_affine=True)\n",
       "            (mlp): MLP(\n",
       "              (0): Linear(in_features=384, out_features=1536, bias=True)\n",
       "              (1): GELU(approximate='none')\n",
       "              (2): Dropout(p=0.0, inplace=False)\n",
       "              (3): Linear(in_features=1536, out_features=384, bias=True)\n",
       "              (4): Dropout(p=0.0, inplace=False)\n",
       "            )\n",
       "          )\n",
       "          (5): SwinTransformerBlock(\n",
       "            (norm1): LayerNorm((384,), eps=1e-05, elementwise_affine=True)\n",
       "            (attn): ShiftedWindowAttention3d(\n",
       "              (qkv): Linear(in_features=384, out_features=1152, bias=True)\n",
       "              (proj): Linear(in_features=384, out_features=384, bias=True)\n",
       "            )\n",
       "            (stochastic_depth): StochasticDepth(p=0.08181818181818182, mode=row)\n",
       "            (norm2): LayerNorm((384,), eps=1e-05, elementwise_affine=True)\n",
       "            (mlp): MLP(\n",
       "              (0): Linear(in_features=384, out_features=1536, bias=True)\n",
       "              (1): GELU(approximate='none')\n",
       "              (2): Dropout(p=0.0, inplace=False)\n",
       "              (3): Linear(in_features=1536, out_features=384, bias=True)\n",
       "              (4): Dropout(p=0.0, inplace=False)\n",
       "            )\n",
       "          )\n",
       "        )\n",
       "        (5): PatchMerging(\n",
       "          (reduction): Linear(in_features=1536, out_features=768, bias=False)\n",
       "          (norm): LayerNorm((1536,), eps=1e-05, elementwise_affine=True)\n",
       "        )\n",
       "        (6): Sequential(\n",
       "          (0): SwinTransformerBlock(\n",
       "            (norm1): LayerNorm((768,), eps=1e-05, elementwise_affine=True)\n",
       "            (attn): ShiftedWindowAttention3d(\n",
       "              (qkv): Linear(in_features=768, out_features=2304, bias=True)\n",
       "              (proj): Linear(in_features=768, out_features=768, bias=True)\n",
       "            )\n",
       "            (stochastic_depth): StochasticDepth(p=0.09090909090909091, mode=row)\n",
       "            (norm2): LayerNorm((768,), eps=1e-05, elementwise_affine=True)\n",
       "            (mlp): MLP(\n",
       "              (0): Linear(in_features=768, out_features=3072, bias=True)\n",
       "              (1): GELU(approximate='none')\n",
       "              (2): Dropout(p=0.0, inplace=False)\n",
       "              (3): Linear(in_features=3072, out_features=768, bias=True)\n",
       "              (4): Dropout(p=0.0, inplace=False)\n",
       "            )\n",
       "          )\n",
       "          (1): SwinTransformerBlock(\n",
       "            (norm1): LayerNorm((768,), eps=1e-05, elementwise_affine=True)\n",
       "            (attn): ShiftedWindowAttention3d(\n",
       "              (qkv): Linear(in_features=768, out_features=2304, bias=True)\n",
       "              (proj): Linear(in_features=768, out_features=768, bias=True)\n",
       "            )\n",
       "            (stochastic_depth): StochasticDepth(p=0.1, mode=row)\n",
       "            (norm2): LayerNorm((768,), eps=1e-05, elementwise_affine=True)\n",
       "            (mlp): MLP(\n",
       "              (0): Linear(in_features=768, out_features=3072, bias=True)\n",
       "              (1): GELU(approximate='none')\n",
       "              (2): Dropout(p=0.0, inplace=False)\n",
       "              (3): Linear(in_features=3072, out_features=768, bias=True)\n",
       "              (4): Dropout(p=0.0, inplace=False)\n",
       "            )\n",
       "          )\n",
       "        )\n",
       "      )\n",
       "      (norm): LayerNorm((768,), eps=1e-05, elementwise_affine=True)\n",
       "      (avgpool): AdaptiveAvgPool3d(output_size=1)\n",
       "      (head): Linear(in_features=768, out_features=400, bias=True)\n",
       "    )\n",
       "    (linear): Linear(in_features=400, out_features=1, bias=True)\n",
       "    (sigmoid): Sigmoid()\n",
       "  )\n",
       ")"
      ]
     },
     "execution_count": 28,
     "metadata": {},
     "output_type": "execute_result"
    }
   ],
   "source": [
    "FPN()"
   ]
  },
  {
   "cell_type": "code",
   "execution_count": 29,
   "id": "79e1fe4d-15ff-4fdf-a5c8-0def6efc7392",
   "metadata": {},
   "outputs": [
    {
     "name": "stdout",
     "output_type": "stream",
     "text": [
      "torch.Size([1, 1])\n"
     ]
    }
   ],
   "source": [
    "full_model = FPN().to(device)\n",
    "x = torch.randn(1,10, 3, 224, 224).to(device)\n",
    "output = full_model(x)\n",
    "print(output.size())"
   ]
  },
  {
   "cell_type": "code",
   "execution_count": 30,
   "id": "ef961e85-0aa9-451e-8fe3-afcf021b4653",
   "metadata": {
    "id": "djMHx267t6gP"
   },
   "outputs": [
    {
     "data": {
      "text/plain": [
       "torch.Size([1, 5, 3, 224, 224])"
      ]
     },
     "execution_count": 30,
     "metadata": {},
     "output_type": "execute_result"
    }
   ],
   "source": [
    "imus = images.unsqueeze(0)\n",
    "imus.shape"
   ]
  },
  {
   "cell_type": "code",
   "execution_count": 31,
   "id": "91ce4361-b00f-47e7-b437-66cff8d7e627",
   "metadata": {
    "colab": {
     "base_uri": "https://localhost:8080/"
    },
    "id": "mcBinCzFMJV7",
    "outputId": "ee298e8f-51c5-436b-893b-7b339a1fa422"
   },
   "outputs": [
    {
     "data": {
      "text/plain": [
       "tensor([[0.5554]], device='cuda:0', grad_fn=<SigmoidBackward0>)"
      ]
     },
     "execution_count": 31,
     "metadata": {},
     "output_type": "execute_result"
    }
   ],
   "source": [
    "zero_ims = torch.zeros_like(imus).to(device)\n",
    "fpn_output = full_model(zero_ims)\n",
    "fpn_output"
   ]
  },
  {
   "cell_type": "code",
   "execution_count": 32,
   "id": "4a6c99d9-b933-40a6-8f28-b1fdd285c8a6",
   "metadata": {
    "id": "nX2dw1JECD4W"
   },
   "outputs": [],
   "source": [
    "#GPU 정리\n",
    "import gc\n",
    "gc.collect()\n",
    "torch.cuda.empty_cache()"
   ]
  },
  {
   "cell_type": "markdown",
   "id": "1096434f-945e-4e29-9a69-8c5d1a186d37",
   "metadata": {
    "id": "b9LXHzKHnzLM",
    "tags": []
   },
   "source": [
    "### for train"
   ]
  },
  {
   "cell_type": "code",
   "execution_count": 45,
   "id": "09249aa5-9ffa-4714-919b-767c74f147e1",
   "metadata": {},
   "outputs": [],
   "source": [
    "lr = 0.001 #learning rate\n",
    "num_epochs = 5 #학습할 epoch 수\n",
    "optimizer = torch.optim.AdamW(full_model.parameters(), lr=lr) #Gradient Descent 에 적용할 Activation 함수\n",
    "loss_function = nn.BCELoss().to(device) #model의 성능을 측정하고 학습 현황을 보여줄 목적함수"
   ]
  },
  {
   "cell_type": "code",
   "execution_count": 46,
   "id": "7ea19a7d-e17a-4fe9-b7fa-74b39f94afbf",
   "metadata": {},
   "outputs": [],
   "source": [
    "params = {\n",
    "    'optimizer':optimizer,\n",
    "    'loss_function': loss_function,\n",
    "    'train_dataloader':train_loader,\n",
    "    'test_dataloader': test_loader,\n",
    "    'device':device\n",
    "}"
   ]
  },
  {
   "cell_type": "code",
   "execution_count": 47,
   "id": "f1951ec0-f279-4798-b4f3-d90708b30ba7",
   "metadata": {},
   "outputs": [],
   "source": [
    "def train(model,params=params):\n",
    "    loss_function=params['loss_function']\n",
    "    train_dataloader=params['train_dataloader']\n",
    "    test_dataloader=params['test_dataloader']\n",
    "    device=params['device']\n",
    "\n",
    "    train_losses = []\n",
    "    train_accuracies = []\n",
    "    val_accuracies = []\n",
    "\n",
    "    #epoch 횟수 만큼 학습\n",
    "    for epoch in range(0,num_epochs): \n",
    "        for i,data in enumerate(tqdm(train_dataloader),0):\n",
    "            model.train()\n",
    "            inputs,labels = data\n",
    "            inputs = inputs.to(device)\n",
    "            labels = labels.to(device)\n",
    "\n",
    "            #이전 배치의 가중치 초기화\n",
    "            optimizer.zero_grad()\n",
    "\n",
    "            #feedforward 그리고 backpropagation\n",
    "            output = torch.squeeze(model(inputs),1)\n",
    "            train_loss = loss_function(output,labels)\n",
    "            train_loss.backward()\n",
    "            \n",
    "            #가중치 업데이트\n",
    "            optimizer.step()\n",
    "            optimizer.zero_grad()\n",
    "\n",
    "\n",
    "        total = 0\n",
    "        correct = 0\n",
    "        accuracy = []\n",
    "        for i,data in enumerate(test_dataloader,0):\n",
    "            model.eval()\n",
    "            inputs,labels = data\n",
    "            inputs = inputs.to(device)\n",
    "            labels = labels.to(device)\n",
    "\n",
    "            outputs = torch.squeeze(model(inputs),1)\n",
    "\n",
    "            predicted = torch.round(outputs)\n",
    "            total += labels.size(0)\n",
    "            correct += (predicted == labels).sum().item()\n",
    "            test_loss = loss_function(outputs,labels)\n",
    "            accuracy.append(100*correct/total)\n",
    "\n",
    "        print('Epoch: %d/%d, Train loss: %.6f, Test loss: %.6f, Accuracy %.2f' % (epoch+1,num_epochs,train_loss.item(),test_loss.item(),100*correct/total))"
   ]
  },
  {
   "cell_type": "markdown",
   "id": "56d96920-86cc-456d-b25c-67c86c3df8b5",
   "metadata": {
    "id": "XSVtcznboXpv",
    "tags": []
   },
   "source": [
    "### Train"
   ]
  },
  {
   "cell_type": "code",
   "execution_count": 48,
   "id": "06a05374-9fc9-4507-936e-231e749355f6",
   "metadata": {},
   "outputs": [
    {
     "name": "stderr",
     "output_type": "stream",
     "text": [
      "100%|██████████████████████████████████████████████████████████████████████████████| 2851/2851 [02:52<00:00, 16.52it/s]\n"
     ]
    },
    {
     "name": "stdout",
     "output_type": "stream",
     "text": [
      "Epoch: 1/5, Train loss: 0.227465, Test loss: 0.226762, Accuracy 83.45\n"
     ]
    },
    {
     "name": "stderr",
     "output_type": "stream",
     "text": [
      "100%|██████████████████████████████████████████████████████████████████████████████| 2851/2851 [02:56<00:00, 16.14it/s]\n"
     ]
    },
    {
     "name": "stdout",
     "output_type": "stream",
     "text": [
      "Epoch: 2/5, Train loss: 0.263068, Test loss: 0.259212, Accuracy 83.45\n"
     ]
    },
    {
     "name": "stderr",
     "output_type": "stream",
     "text": [
      "100%|██████████████████████████████████████████████████████████████████████████████| 2851/2851 [02:51<00:00, 16.60it/s]\n"
     ]
    },
    {
     "name": "stdout",
     "output_type": "stream",
     "text": [
      "Epoch: 3/5, Train loss: 0.258985, Test loss: 0.256304, Accuracy 83.45\n"
     ]
    },
    {
     "name": "stderr",
     "output_type": "stream",
     "text": [
      "100%|██████████████████████████████████████████████████████████████████████████████| 2851/2851 [02:57<00:00, 16.03it/s]\n"
     ]
    },
    {
     "name": "stdout",
     "output_type": "stream",
     "text": [
      "Epoch: 4/5, Train loss: 0.259907, Test loss: 0.256961, Accuracy 83.45\n"
     ]
    },
    {
     "name": "stderr",
     "output_type": "stream",
     "text": [
      "100%|██████████████████████████████████████████████████████████████████████████████| 2851/2851 [02:56<00:00, 16.18it/s]\n"
     ]
    },
    {
     "name": "stdout",
     "output_type": "stream",
     "text": [
      "Epoch: 5/5, Train loss: 0.247517, Test loss: 0.246457, Accuracy 83.45\n"
     ]
    }
   ],
   "source": [
    "train(model=full_model, params=params)"
   ]
  },
  {
   "cell_type": "code",
   "execution_count": 60,
   "id": "0e8f0bda-effb-48bb-8e0d-20f862d11042",
   "metadata": {
    "colab": {
     "base_uri": "https://localhost:8080/",
     "height": 284
    },
    "id": "TTVkdHb4fASA",
    "outputId": "23f25ae7-82ea-4942-be0e-f582b679ebaf"
   },
   "outputs": [
    {
     "data": {
      "text/plain": [
       "[<matplotlib.lines.Line2D at 0x7f1e9e0c2b50>]"
      ]
     },
     "execution_count": 60,
     "metadata": {},
     "output_type": "execute_result"
    },
    {
     "data": {
      "image/png": "[encoded data removed]",
      "text/plain": [
       "<Figure size 432x288 with 1 Axes>"
      ]
     },
     "metadata": {
      "needs_background": "light"
     },
     "output_type": "display_data"
    }
   ],
   "source": [
    "import matplotlib.pyplot as plt\n",
    "plt.plot(train_losses)"
   ]
  },
  {
   "cell_type": "code",
   "execution_count": 61,
   "id": "dc0be692-49d4-412b-9e02-7bdd94a20a25",
   "metadata": {
    "colab": {
     "base_uri": "https://localhost:8080/"
    },
    "id": "CpJLVRopL7GD",
    "outputId": "617e7dbd-3e4f-4e73-c995-d6a81ee36646"
   },
   "outputs": [
    {
     "name": "stdout",
     "output_type": "stream",
     "text": [
      "val_epoch_accuracy :  0.9117174959871589\n",
      "time : 212.71361565589905\n"
     ]
    }
   ],
   "source": [
    "import time\n",
    "start = time.time()\n",
    "\n",
    "for ix, batch in enumerate(iter(test_loader)):\n",
    "    x, y = batch\n",
    "    val_is_correct = accuracy(x, y, model)     \n",
    "    val_epoch_accuracies.extend(val_is_correct)\n",
    "val_accuracy_list = []\n",
    "\n",
    "for i in val_epoch_accuracies:\n",
    "    batch_mean = np.sum(i)\n",
    "    val_accuracy_list.append(batch_mean)\n",
    "val_epoch_accuracy = sum(val_accuracy_list)/(batchsize*len(val_accuracy_list))\n",
    "\n",
    "\n",
    "print('val_epoch_accuracy : ',  val_epoch_accuracy)\n",
    "\n",
    "print(\"time :\", time.time() - start)"
   ]
  }
 ],
 "metadata": {
  "kernelspec": {
   "display_name": "Python 3 (ipykernel)",
   "language": "python",
   "name": "python3"
  },
  "language_info": {
   "codemirror_mode": {
    "name": "ipython",
    "version": 3
   },
   "file_extension": ".py",
   "mimetype": "text/x-python",
   "name": "python",
   "nbconvert_exporter": "python",
   "pygments_lexer": "ipython3",
   "version": "3.11.7"
  }
 },
 "nbformat": 4,
 "nbformat_minor": 5
}
